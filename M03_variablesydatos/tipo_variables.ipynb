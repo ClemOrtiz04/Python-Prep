{
 "cells": [
  {
   "cell_type": "code",
   "execution_count": 14,
   "id": "6d871b92",
   "metadata": {},
   "outputs": [],
   "source": [
    "numero = 2.5"
   ]
  },
  {
   "cell_type": "code",
   "execution_count": 2,
   "id": "d94f2196",
   "metadata": {},
   "outputs": [
    {
     "name": "stdout",
     "output_type": "stream",
     "text": [
      "5\n"
     ]
    }
   ],
   "source": [
    "print(numero)"
   ]
  },
  {
   "cell_type": "code",
   "execution_count": 3,
   "id": "37a09018",
   "metadata": {},
   "outputs": [],
   "source": [
    "nombre = 'Andrepapu'\n",
    "apellido = \"Papuman\""
   ]
  },
  {
   "cell_type": "code",
   "execution_count": 7,
   "id": "be7ce394",
   "metadata": {},
   "outputs": [
    {
     "name": "stdout",
     "output_type": "stream",
     "text": [
      "Andrepapu\n",
      "Papuman\n"
     ]
    }
   ],
   "source": [
    "print(nombre)\n",
    "print(apellido)"
   ]
  },
  {
   "cell_type": "code",
   "execution_count": 17,
   "id": "339590ef",
   "metadata": {},
   "outputs": [
    {
     "data": {
      "text/plain": [
       "float"
      ]
     },
     "execution_count": 17,
     "metadata": {},
     "output_type": "execute_result"
    }
   ],
   "source": [
    "type(numero)"
   ]
  },
  {
   "cell_type": "code",
   "execution_count": 21,
   "id": "17e32c7a",
   "metadata": {},
   "outputs": [
    {
     "data": {
      "text/plain": [
       "True"
      ]
     },
     "execution_count": 21,
     "metadata": {},
     "output_type": "execute_result"
    }
   ],
   "source": [
    "bool(25) "
   ]
  }
 ],
 "metadata": {
  "kernelspec": {
   "display_name": "Python 3",
   "language": "python",
   "name": "python3"
  },
  "language_info": {
   "codemirror_mode": {
    "name": "ipython",
    "version": 3
   },
   "file_extension": ".py",
   "mimetype": "text/x-python",
   "name": "python",
   "nbconvert_exporter": "python",
   "pygments_lexer": "ipython3",
   "version": "3.13.5"
  }
 },
 "nbformat": 4,
 "nbformat_minor": 5
}
