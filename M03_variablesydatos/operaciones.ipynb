{
 "cells": [
  {
   "cell_type": "code",
   "execution_count": 1,
   "id": "3feeb445",
   "metadata": {},
   "outputs": [
    {
     "data": {
      "text/plain": [
       "17"
      ]
     },
     "execution_count": 1,
     "metadata": {},
     "output_type": "execute_result"
    }
   ],
   "source": [
    "7 + 10"
   ]
  },
  {
   "cell_type": "code",
   "execution_count": 2,
   "id": "1b9dd22d",
   "metadata": {},
   "outputs": [
    {
     "data": {
      "text/plain": [
       "30"
      ]
     },
     "execution_count": 2,
     "metadata": {},
     "output_type": "execute_result"
    }
   ],
   "source": [
    "a = 10\n",
    "b = 20\n",
    "a + b"
   ]
  },
  {
   "cell_type": "code",
   "execution_count": 4,
   "id": "c87c28db",
   "metadata": {},
   "outputs": [
    {
     "data": {
      "text/plain": [
       "-10"
      ]
     },
     "execution_count": 4,
     "metadata": {},
     "output_type": "execute_result"
    }
   ],
   "source": [
    "a = 8\n",
    "a+10\n",
    "a-18"
   ]
  },
  {
   "cell_type": "code",
   "execution_count": 9,
   "id": "07235fe7",
   "metadata": {},
   "outputs": [
    {
     "data": {
      "text/plain": [
       "100"
      ]
     },
     "execution_count": 9,
     "metadata": {},
     "output_type": "execute_result"
    }
   ],
   "source": [
    "\n",
    "a = 20\n",
    "b = 5\n",
    "a*b"
   ]
  },
  {
   "cell_type": "code",
   "execution_count": null,
   "id": "6e150bb7",
   "metadata": {},
   "outputs": [
    {
     "data": {
      "text/plain": [
       "32"
      ]
     },
     "execution_count": 10,
     "metadata": {},
     "output_type": "execute_result"
    }
   ],
   "source": [
    "num1 = 2\n",
    "num2 = 5 \n",
    "num1**num2 #Simbolo de comentario"
   ]
  },
  {
   "cell_type": "code",
   "execution_count": 13,
   "id": "60607835",
   "metadata": {},
   "outputs": [
    {
     "data": {
      "text/plain": [
       "1"
      ]
     },
     "execution_count": 13,
     "metadata": {},
     "output_type": "execute_result"
    }
   ],
   "source": [
    "10/3 #Da el numero decimal\n",
    "10//3 #Solo da la parte entera\n",
    "7%2 #Da el residuo"
   ]
  },
  {
   "cell_type": "code",
   "execution_count": 14,
   "id": "08d57d36",
   "metadata": {},
   "outputs": [
    {
     "name": "stdout",
     "output_type": "stream",
     "text": [
      "0 1 0\n"
     ]
    }
   ],
   "source": [
    "print(266%2, 19%2, 20%2)"
   ]
  },
  {
   "cell_type": "code",
   "execution_count": null,
   "id": "4986a090",
   "metadata": {},
   "outputs": [
    {
     "name": "stdout",
     "output_type": "stream",
     "text": [
      "<class 'int'>\n",
      "<class 'str'>\n"
     ]
    },
    {
     "data": {
      "text/plain": [
       "True"
      ]
     },
     "execution_count": 19,
     "metadata": {},
     "output_type": "execute_result"
    }
   ],
   "source": [
    "#Operadores Relacionales\n",
    "\"pata\" == \"pata\" #comparacion Si\n",
    "print(type(4))\n",
    "print(type(\"4\"))\n",
    "\n",
    "4!= \"4\" #operador distinto de\n",
    "# > < >= <="
   ]
  },
  {
   "cell_type": "code",
   "execution_count": 21,
   "id": "19e4b187",
   "metadata": {},
   "outputs": [
    {
     "name": "stdout",
     "output_type": "stream",
     "text": [
      "20\n"
     ]
    }
   ],
   "source": [
    "x = 10 #asignacion\n",
    "x+=10\n",
    "print(x)"
   ]
  },
  {
   "cell_type": "code",
   "execution_count": null,
   "id": "30f5b87a",
   "metadata": {},
   "outputs": [
    {
     "data": {
      "text/plain": [
       "'Hola Papus '"
      ]
     },
     "execution_count": 22,
     "metadata": {},
     "output_type": "execute_result"
    }
   ],
   "source": [
    "\"Hola \" + \"Papus\""
   ]
  },
  {
   "cell_type": "code",
   "execution_count": 24,
   "id": "789d2517",
   "metadata": {},
   "outputs": [
    {
     "data": {
      "text/plain": [
       "'Papupro Papupro Papupro '"
      ]
     },
     "execution_count": 24,
     "metadata": {},
     "output_type": "execute_result"
    }
   ],
   "source": [
    "\"Papupro \" * 3"
   ]
  },
  {
   "cell_type": "code",
   "execution_count": null,
   "id": "700de89e",
   "metadata": {},
   "outputs": [
    {
     "name": "stdout",
     "output_type": "stream",
     "text": [
      "True\n",
      "False\n",
      "True\n",
      "False\n",
      "False\n",
      "True\n"
     ]
    }
   ],
   "source": [
    "#Operadores lógicos\n",
    "print(True and True)\n",
    "print(True and False)\n",
    "print(True or True)\n",
    "print(False or False)\n",
    "print(not True)\n",
    "print(not False)"
   ]
  },
  {
   "cell_type": "code",
   "execution_count": null,
   "id": "effbddc5",
   "metadata": {},
   "outputs": [
    {
     "name": "stdout",
     "output_type": "stream",
     "text": [
      "True\n"
     ]
    }
   ],
   "source": [
    "a = bool(0)\n",
    "b = bool(1)\n",
    "#Operacion logica xor para que sea true ambas proposiciones deben ser distintas\n",
    "print(a^b)"
   ]
  }
 ],
 "metadata": {
  "kernelspec": {
   "display_name": "Python 3",
   "language": "python",
   "name": "python3"
  },
  "language_info": {
   "codemirror_mode": {
    "name": "ipython",
    "version": 3
   },
   "file_extension": ".py",
   "mimetype": "text/x-python",
   "name": "python",
   "nbconvert_exporter": "python",
   "pygments_lexer": "ipython3",
   "version": "3.13.5"
  }
 },
 "nbformat": 4,
 "nbformat_minor": 5
}
