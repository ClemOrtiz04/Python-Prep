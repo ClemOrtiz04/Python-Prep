{
 "cells": [
  {
   "cell_type": "code",
   "execution_count": null,
   "id": "98360a77",
   "metadata": {},
   "outputs": [],
   "source": [
    "#for <elementos> in <elementos a iterar>:\n",
    "#   <codigo> "
   ]
  },
  {
   "cell_type": "code",
   "execution_count": 12,
   "id": "2919e3f4",
   "metadata": {},
   "outputs": [
    {
     "name": "stdout",
     "output_type": "stream",
     "text": [
      "2\n",
      "4\n",
      "6\n"
     ]
    }
   ],
   "source": [
    "numeros = [1,3,5]\n",
    "for num in numeros:\n",
    "    suma = num + 1\n",
    "    print(suma)"
   ]
  },
  {
   "cell_type": "code",
   "execution_count": 9,
   "id": "ac4aa317",
   "metadata": {},
   "outputs": [
    {
     "name": "stdout",
     "output_type": "stream",
     "text": [
      "2\n",
      "3\n",
      "4\n",
      "5\n",
      "6\n"
     ]
    }
   ],
   "source": [
    "for i in range(1,6):\n",
    "    suma = i + 1\n",
    "    print(suma)"
   ]
  },
  {
   "cell_type": "code",
   "execution_count": 11,
   "id": "163cbd06",
   "metadata": {},
   "outputs": [
    {
     "name": "stdout",
     "output_type": "stream",
     "text": [
      "num 1\n",
      "num 2\n",
      "num 3\n",
      "num 4\n",
      "num 5\n"
     ]
    }
   ],
   "source": [
    "#Bucle While en python\n",
    "num = 1\n",
    "while num < 6:\n",
    "    print(\"num\", num)\n",
    "    num = num + 1"
   ]
  },
  {
   "cell_type": "code",
   "execution_count": 19,
   "id": "817a66db",
   "metadata": {},
   "outputs": [
    {
     "name": "stdout",
     "output_type": "stream",
     "text": [
      "1\n",
      "2\n",
      "3\n",
      "4\n",
      "5\n"
     ]
    }
   ],
   "source": [
    "#Sentencia Break\n",
    "for i in range(1,10):\n",
    "    print(i)\n",
    "    if i == 5:\n",
    "        break\n",
    "    "
   ]
  },
  {
   "cell_type": "code",
   "execution_count": null,
   "id": "03c0def7",
   "metadata": {},
   "outputs": [
    {
     "name": "stdout",
     "output_type": "stream",
     "text": [
      "E\n",
      "s\n",
      "o\n",
      "t\n",
      "i\n",
      "l\n",
      "i\n",
      "Se ha encontrado la letra t\n"
     ]
    }
   ],
   "source": [
    "cadena = \"Esotilinn\"\n",
    "for letra in cadena:\n",
    "    if letra == \"t\":\n",
    "        print(\"Se ha encontrado la letra t\")\n",
    "        break\n",
    "    print(letra)\n"
   ]
  },
  {
   "cell_type": "code",
   "execution_count": null,
   "id": "31adc458",
   "metadata": {},
   "outputs": [
    {
     "name": "stdout",
     "output_type": "stream",
     "text": [
      "a\n",
      "u\n",
      "r\n",
      "o\n"
     ]
    }
   ],
   "source": [
    "#Sentencia continue la sentencia continue se salta todo el código restante en la iteración actual y vuelve al principio en el caso de que aún queden iteraciones por completar.\n",
    "\n",
    "cadena = \"Papupro\"\n",
    "for letra in cadena:\n",
    "    if letra == \"p\" or letra == \"P\":\n",
    "        continue\n",
    "    print(letra)"
   ]
  }
 ],
 "metadata": {
  "kernelspec": {
   "display_name": "Python 3",
   "language": "python",
   "name": "python3"
  },
  "language_info": {
   "codemirror_mode": {
    "name": "ipython",
    "version": 3
   },
   "file_extension": ".py",
   "mimetype": "text/x-python",
   "name": "python",
   "nbconvert_exporter": "python",
   "pygments_lexer": "ipython3",
   "version": "3.13.5"
  }
 },
 "nbformat": 4,
 "nbformat_minor": 5
}
