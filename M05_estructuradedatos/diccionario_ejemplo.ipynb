{
 "cells": [
  {
   "cell_type": "code",
   "execution_count": 2,
   "id": "4708edc9",
   "metadata": {},
   "outputs": [],
   "source": [
    "primer_diccionario = dict()"
   ]
  },
  {
   "cell_type": "code",
   "execution_count": 3,
   "id": "c80fdd87",
   "metadata": {},
   "outputs": [
    {
     "data": {
      "text/plain": [
       "{}"
      ]
     },
     "execution_count": 3,
     "metadata": {},
     "output_type": "execute_result"
    }
   ],
   "source": [
    "primer_diccionario"
   ]
  },
  {
   "cell_type": "code",
   "execution_count": 4,
   "id": "01997997",
   "metadata": {},
   "outputs": [
    {
     "data": {
      "text/plain": [
       "dict"
      ]
     },
     "execution_count": 4,
     "metadata": {},
     "output_type": "execute_result"
    }
   ],
   "source": [
    "type(primer_diccionario)"
   ]
  },
  {
   "cell_type": "code",
   "execution_count": null,
   "id": "ca5d1385",
   "metadata": {},
   "outputs": [],
   "source": [
    "primer_diccionario['primero']='uno'  #Clave : Valor"
   ]
  },
  {
   "cell_type": "code",
   "execution_count": 6,
   "id": "45322b7b",
   "metadata": {},
   "outputs": [
    {
     "name": "stdout",
     "output_type": "stream",
     "text": [
      "{'primero': 'uno'}\n"
     ]
    }
   ],
   "source": [
    "print(primer_diccionario)"
   ]
  },
  {
   "cell_type": "code",
   "execution_count": 7,
   "id": "2a314b57",
   "metadata": {},
   "outputs": [],
   "source": [
    "primer_diccionario[\"segundo\"] = \"dos\"\n",
    "primer_diccionario['tercero'] = 'tres'"
   ]
  },
  {
   "cell_type": "code",
   "execution_count": 8,
   "id": "a37f4e7d",
   "metadata": {},
   "outputs": [
    {
     "name": "stdout",
     "output_type": "stream",
     "text": [
      "{'primero': 'uno', 'segundo': 'dos', 'tercero': 'tres'}\n"
     ]
    }
   ],
   "source": [
    "print(primer_diccionario)"
   ]
  },
  {
   "cell_type": "code",
   "execution_count": 11,
   "id": "7900918f",
   "metadata": {},
   "outputs": [],
   "source": [
    "segundo_dic = {\"cuatro\":4, \"cinco\":5, \"seis\":6}"
   ]
  },
  {
   "cell_type": "code",
   "execution_count": 12,
   "id": "4caaccbd",
   "metadata": {},
   "outputs": [
    {
     "name": "stdout",
     "output_type": "stream",
     "text": [
      "{'cuatro': 4, 'cinco': 5, 'seis': 6}\n"
     ]
    }
   ],
   "source": [
    "print(segundo_dic)"
   ]
  },
  {
   "cell_type": "code",
   "execution_count": 13,
   "id": "c3dc6520",
   "metadata": {},
   "outputs": [
    {
     "name": "stdout",
     "output_type": "stream",
     "text": [
      "4\n"
     ]
    }
   ],
   "source": [
    "print(segundo_dic['cuatro'])"
   ]
  },
  {
   "cell_type": "code",
   "execution_count": 17,
   "id": "7e47c2e9",
   "metadata": {},
   "outputs": [],
   "source": [
    "mi_diccionario = {'Colores_Primarios': [\"Rojo\",\"Azul\",\"Amarillo\"],\n",
    "                  'Colores_Secundarios': (\"Naranja\",\"Morado\",\"Verde\"),\n",
    "                  'Clave_3': 10,\n",
    "                  'Clave_4': False}"
   ]
  },
  {
   "cell_type": "code",
   "execution_count": 18,
   "id": "7eb0631b",
   "metadata": {},
   "outputs": [
    {
     "name": "stdout",
     "output_type": "stream",
     "text": [
      "{'Colores_Primarios': ['Rojo', 'Azul', 'Amarillo'], 'Colores_Secundarios': ('Naranja', 'Morado', 'Verde'), 'Clave_3': 10, 'Clave_4': False}\n"
     ]
    }
   ],
   "source": [
    "print(mi_diccionario)"
   ]
  },
  {
   "cell_type": "code",
   "execution_count": 19,
   "id": "717b004f",
   "metadata": {},
   "outputs": [],
   "source": [
    "del mi_diccionario['Clave_4']"
   ]
  },
  {
   "cell_type": "code",
   "execution_count": 20,
   "id": "99aa1885",
   "metadata": {},
   "outputs": [
    {
     "name": "stdout",
     "output_type": "stream",
     "text": [
      "{'Colores_Primarios': ['Rojo', 'Azul', 'Amarillo'], 'Colores_Secundarios': ('Naranja', 'Morado', 'Verde'), 'Clave_3': 10}\n"
     ]
    }
   ],
   "source": [
    "print(mi_diccionario)"
   ]
  },
  {
   "cell_type": "code",
   "execution_count": 21,
   "id": "2982b624",
   "metadata": {},
   "outputs": [],
   "source": [
    "mi_tupla =(\"Argentina\",\"Italia\",\"Inglaterra\")"
   ]
  },
  {
   "cell_type": "code",
   "execution_count": 22,
   "id": "c23797f1",
   "metadata": {},
   "outputs": [],
   "source": [
    "mi_diccionario = {mi_tupla[0]:\"Buenos Aires\",\n",
    "                  mi_tupla[1]:\"Roma\",\n",
    "                  mi_tupla[2]:\"Londres\"}"
   ]
  },
  {
   "cell_type": "code",
   "execution_count": 23,
   "id": "f0423584",
   "metadata": {},
   "outputs": [
    {
     "name": "stdout",
     "output_type": "stream",
     "text": [
      "{'Argentina': 'Buenos Aires', 'Italia': 'Roma', 'Inglaterra': 'Londres'}\n"
     ]
    }
   ],
   "source": [
    "print(mi_diccionario)"
   ]
  },
  {
   "cell_type": "code",
   "execution_count": 25,
   "id": "22159fa1",
   "metadata": {},
   "outputs": [],
   "source": [
    "mi_diccionario = {\"Clave1\":\"Valor1\", \"Clave2\":(1,2,3,4,5)}"
   ]
  },
  {
   "cell_type": "code",
   "execution_count": 26,
   "id": "2a0e903c",
   "metadata": {},
   "outputs": [
    {
     "name": "stdout",
     "output_type": "stream",
     "text": [
      "{'Clave1': 'Valor1', 'Clave2': (1, 2, 3, 4, 5)}\n"
     ]
    }
   ],
   "source": [
    "print(mi_diccionario)"
   ]
  },
  {
   "cell_type": "code",
   "execution_count": 27,
   "id": "950cc91b",
   "metadata": {},
   "outputs": [],
   "source": [
    "mi_diccionario = {\"Clave1\":\"Valor1\",\"Clave2\":{'numeros':[1,2,3,4,5]}}"
   ]
  },
  {
   "cell_type": "code",
   "execution_count": 28,
   "id": "3d55b3b0",
   "metadata": {},
   "outputs": [
    {
     "name": "stdout",
     "output_type": "stream",
     "text": [
      "{'Clave1': 'Valor1', 'Clave2': {'numeros': [1, 2, 3, 4, 5]}}\n"
     ]
    }
   ],
   "source": [
    "print(mi_diccionario)"
   ]
  },
  {
   "cell_type": "code",
   "execution_count": 29,
   "id": "edc03901",
   "metadata": {},
   "outputs": [
    {
     "name": "stdout",
     "output_type": "stream",
     "text": [
      "dict_keys(['Clave1', 'Clave2'])\n"
     ]
    }
   ],
   "source": [
    "print(mi_diccionario.keys())"
   ]
  },
  {
   "cell_type": "code",
   "execution_count": 30,
   "id": "3339a45b",
   "metadata": {},
   "outputs": [
    {
     "name": "stdout",
     "output_type": "stream",
     "text": [
      "dict_values(['Valor1', {'numeros': [1, 2, 3, 4, 5]}])\n"
     ]
    }
   ],
   "source": [
    "print(mi_diccionario.values())"
   ]
  },
  {
   "cell_type": "code",
   "execution_count": 31,
   "id": "9e22d203",
   "metadata": {},
   "outputs": [
    {
     "data": {
      "text/plain": [
       "2"
      ]
     },
     "execution_count": 31,
     "metadata": {},
     "output_type": "execute_result"
    }
   ],
   "source": [
    "len(mi_diccionario)"
   ]
  },
  {
   "cell_type": "code",
   "execution_count": 33,
   "id": "b48d5f6c",
   "metadata": {},
   "outputs": [
    {
     "name": "stdout",
     "output_type": "stream",
     "text": [
      "{0: 'rojo', 1: 'azul', 2: 'amarillo'}\n"
     ]
    }
   ],
   "source": [
    "lista = [\"rojo\", \"azul\", \"amarillo\"]\n",
    "nuevo_dic = {i: color for i, color in enumerate(lista)}\n",
    "print(nuevo_dic)"
   ]
  }
 ],
 "metadata": {
  "kernelspec": {
   "display_name": "Python 3",
   "language": "python",
   "name": "python3"
  },
  "language_info": {
   "codemirror_mode": {
    "name": "ipython",
    "version": 3
   },
   "file_extension": ".py",
   "mimetype": "text/x-python",
   "name": "python",
   "nbconvert_exporter": "python",
   "pygments_lexer": "ipython3",
   "version": "3.13.5"
  }
 },
 "nbformat": 4,
 "nbformat_minor": 5
}
