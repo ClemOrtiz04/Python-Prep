{
 "cells": [
  {
   "cell_type": "code",
   "execution_count": 3,
   "id": "1f29d2b8",
   "metadata": {},
   "outputs": [
    {
     "data": {
      "text/plain": [
       "['rojo', 'azul', 'amarillo']"
      ]
     },
     "execution_count": 3,
     "metadata": {},
     "output_type": "execute_result"
    }
   ],
   "source": [
    "[22,23,24,25,26]\n",
    "['rojo',\"azul\",\"amarillo\"]"
   ]
  },
  {
   "cell_type": "code",
   "execution_count": 4,
   "id": "c907d7a1",
   "metadata": {},
   "outputs": [
    {
     "data": {
      "text/plain": [
       "['python', 23, 18.4, ['hola', 'adios', 'helou']]"
      ]
     },
     "execution_count": 4,
     "metadata": {},
     "output_type": "execute_result"
    }
   ],
   "source": [
    "[\"python\",23,18.4,[\"hola\",\"adios\",\"helou\"]]"
   ]
  },
  {
   "cell_type": "code",
   "execution_count": 6,
   "id": "0d7d356e",
   "metadata": {},
   "outputs": [],
   "source": [
    "lista_numeros = [23,24,25,26]\n",
    "lista_colores = [\"rojo\",\"azul\",\"amarillo\"]\n",
    "lista_vacia = []"
   ]
  },
  {
   "cell_type": "code",
   "execution_count": 8,
   "id": "0a9fc7f6",
   "metadata": {},
   "outputs": [
    {
     "name": "stdout",
     "output_type": "stream",
     "text": [
      "[23, 24, 25, 26]\n",
      "['rojo', 'azul', 'amarillo']\n",
      "[]\n",
      "<class 'list'>\n"
     ]
    }
   ],
   "source": [
    "print(lista_numeros)\n",
    "print(lista_colores)\n",
    "print(lista_vacia)\n",
    "print(type(lista_numeros))"
   ]
  },
  {
   "cell_type": "code",
   "execution_count": null,
   "id": "74e302e4",
   "metadata": {},
   "outputs": [
    {
     "name": "stdout",
     "output_type": "stream",
     "text": [
      "azul\n",
      "[23, 24, 25]\n"
     ]
    }
   ],
   "source": [
    "print(lista_colores[1])\n",
    "print(lista_numeros[0:3])#Imprime los elementos de la lista numero del 1er al 3er elemento no incluye el último"
   ]
  },
  {
   "cell_type": "code",
   "execution_count": null,
   "id": "c47a90e1",
   "metadata": {},
   "outputs": [
    {
     "name": "stdout",
     "output_type": "stream",
     "text": [
      "['rojo', 'azul', 'amarillo', 'naranja', 'morado', 'café', 'verde']\n",
      "['rojo', 'azul', 'amarillo', 'naranja', 'morado', 'café', 'verde', 'blanco']\n"
     ]
    }
   ],
   "source": [
    "mi_lista = [\"rojo\",\"azul\",\"amarillo\",\"naranja\",\"morado\",\"café\",\"verde\"]\n",
    "print(mi_lista)\n",
    "mi_lista.append(\"blanco\") #agrega un elemento a la lista pero en la ultima posicion\n",
    "print(mi_lista)\n"
   ]
  },
  {
   "cell_type": "code",
   "execution_count": null,
   "id": "1344cba1",
   "metadata": {},
   "outputs": [],
   "source": [
    "mi_lista.insert(3,\"negro\") #Con el comando insert tu puedes especificar la posicion donde se introduce el nuevo elemento"
   ]
  },
  {
   "cell_type": "code",
   "execution_count": 34,
   "id": "67d22a21",
   "metadata": {},
   "outputs": [
    {
     "name": "stdout",
     "output_type": "stream",
     "text": [
      "['rojo', 'azul', 'amarillo', 'azul', 'negro', 'naranja', 'morado', 'café', 'verde', 'blanco', 'rosa', 'gris']\n"
     ]
    }
   ],
   "source": [
    "print(mi_lista)\n"
   ]
  },
  {
   "cell_type": "code",
   "execution_count": null,
   "id": "7e2b6c5a",
   "metadata": {},
   "outputs": [
    {
     "name": "stdout",
     "output_type": "stream",
     "text": [
      "['rojo', 'azul', 'amarillo', 'naranja', 'morado', 'café', 'verde', 'blanco']\n"
     ]
    }
   ],
   "source": [
    "mi_lista.remove(\"negro\") #Elimina el primer elemento que encuentre con el valor introducido\n",
    "print(mi_lista)"
   ]
  },
  {
   "cell_type": "code",
   "execution_count": null,
   "id": "73d97b0a",
   "metadata": {},
   "outputs": [],
   "source": [
    "mi_lista.extend([\"rosa\",\"gris\"]) #Añade una nueva lista a la ya conocida\n"
   ]
  },
  {
   "cell_type": "code",
   "execution_count": 38,
   "id": "46de2f64",
   "metadata": {},
   "outputs": [
    {
     "data": {
      "text/plain": [
       "1"
      ]
     },
     "execution_count": 38,
     "metadata": {},
     "output_type": "execute_result"
    }
   ],
   "source": [
    "mi_lista.index(\"azul\") #Te indica la posicion en la que se encuentra un elemento"
   ]
  },
  {
   "cell_type": "code",
   "execution_count": 39,
   "id": "fe3e29ac",
   "metadata": {},
   "outputs": [
    {
     "name": "stdout",
     "output_type": "stream",
     "text": [
      "['rojo', 'azul', 'amarillo', 'azul', 'negro', 'naranja', 'morado', 'café', 'verde', 'blanco', 'rosa']\n"
     ]
    }
   ],
   "source": [
    "Ultimo_elemento = mi_lista.pop() #Este comando elimina el ultimo elemento de la lista, sin embargo lo guardamos en la otra variable\n",
    "print(mi_lista)"
   ]
  },
  {
   "cell_type": "code",
   "execution_count": 40,
   "id": "7a0cfb69",
   "metadata": {},
   "outputs": [
    {
     "name": "stdout",
     "output_type": "stream",
     "text": [
      "gris\n"
     ]
    }
   ],
   "source": [
    "print(Ultimo_elemento)"
   ]
  },
  {
   "cell_type": "code",
   "execution_count": 42,
   "id": "8e0e99f6",
   "metadata": {},
   "outputs": [
    {
     "name": "stdout",
     "output_type": "stream",
     "text": [
      "['rojo', 'azul', 'negro', 'naranja', 'morado', 'café', 'verde', 'blanco', 'rosa']\n",
      "azul\n"
     ]
    }
   ],
   "source": [
    "Segundo_Elemento = mi_lista.pop(1)\n",
    "print(mi_lista)\n",
    "print(Segundo_Elemento)"
   ]
  },
  {
   "cell_type": "code",
   "execution_count": 45,
   "id": "f3057bde",
   "metadata": {},
   "outputs": [
    {
     "name": "stdout",
     "output_type": "stream",
     "text": [
      "[22, 23, 24, 22, 23, 24, 22, 23, 24]\n",
      "[22, 23, 24, 22, 23, 24, 22, 23, 24]\n"
     ]
    }
   ],
   "source": [
    "lista = [22,23,24]\n",
    "print(lista * 3)\n",
    "lista_por_3 = lista * 3\n",
    "print(lista_por_3)"
   ]
  },
  {
   "cell_type": "code",
   "execution_count": null,
   "id": "e48d5a95",
   "metadata": {},
   "outputs": [
    {
     "name": "stdout",
     "output_type": "stream",
     "text": [
      "[1, 2, 4, 5, 6, 7, 8]\n"
     ]
    }
   ],
   "source": [
    "lista = [1,8,2,4,7,6,5]\n",
    "lista.sort() #Ordena numericamente de menor a mayor o ya sea alfabeticamente a-z en las listas string\n",
    "print(lista)"
   ]
  },
  {
   "cell_type": "code",
   "execution_count": 47,
   "id": "b2c4b241",
   "metadata": {},
   "outputs": [
    {
     "name": "stdout",
     "output_type": "stream",
     "text": [
      "[7, 6, 5, 4, 3, 2, 1]\n"
     ]
    }
   ],
   "source": [
    "lista = [1,6,4,5,7,2,3]\n",
    "lista.sort(reverse=True)\n",
    "print(lista)"
   ]
  },
  {
   "cell_type": "code",
   "execution_count": null,
   "id": "45e19986",
   "metadata": {},
   "outputs": [
    {
     "ename": "TypeError",
     "evalue": "'<' not supported between instances of 'int' and 'str'",
     "output_type": "error",
     "traceback": [
      "\u001b[31m---------------------------------------------------------------------------\u001b[39m",
      "\u001b[31mTypeError\u001b[39m                                 Traceback (most recent call last)",
      "\u001b[36mCell\u001b[39m\u001b[36m \u001b[39m\u001b[32mIn[48]\u001b[39m\u001b[32m, line 2\u001b[39m\n\u001b[32m      1\u001b[39m lista = [\u001b[33m\"\u001b[39m\u001b[33mdorado\u001b[39m\u001b[33m\"\u001b[39m,\u001b[32m24\u001b[39m,\u001b[32m8.5\u001b[39m,\u001b[33m\"\u001b[39m\u001b[33mazul\u001b[39m\u001b[33m\"\u001b[39m,\u001b[32m4\u001b[39m]\n\u001b[32m----> \u001b[39m\u001b[32m2\u001b[39m \u001b[43mlista\u001b[49m\u001b[43m.\u001b[49m\u001b[43msort\u001b[49m\u001b[43m(\u001b[49m\u001b[43m)\u001b[49m\n\u001b[32m      3\u001b[39m \u001b[38;5;28mprint\u001b[39m(lista)\n",
      "\u001b[31mTypeError\u001b[39m: '<' not supported between instances of 'int' and 'str'"
     ]
    }
   ],
   "source": [
    "#append(): Agrega un elemento al final de la lista.\n",
    "#insert(): Inserta un elemento en una posición específica de la lista.\n",
    "#extend(): Agrega los elementos de otra lista al final de la lista actual.\n",
    "#index(): Devuelve el índice de la primera aparición de un elemento en la lista.\n",
    "#remove(): Elimina la primera aparición de un elemento de la lista.\n",
    "#sort(): Ordena los elementos de la lista en orden ascendente (por defecto) o descendente.\n",
    "#.pop():  Es utilizado en Python para eliminar y devolver el último elemento de una lista. "
   ]
  },
  {
   "cell_type": "code",
   "execution_count": 50,
   "id": "2128de64",
   "metadata": {},
   "outputs": [
    {
     "name": "stdout",
     "output_type": "stream",
     "text": [
      "['dorado', 24, 8.5, 'azul', 4]\n"
     ]
    },
    {
     "data": {
      "text/plain": [
       "5"
      ]
     },
     "execution_count": 50,
     "metadata": {},
     "output_type": "execute_result"
    }
   ],
   "source": [
    "print(lista)\n",
    "len(lista)"
   ]
  }
 ],
 "metadata": {
  "kernelspec": {
   "display_name": "Python 3",
   "language": "python",
   "name": "python3"
  },
  "language_info": {
   "codemirror_mode": {
    "name": "ipython",
    "version": 3
   },
   "file_extension": ".py",
   "mimetype": "text/x-python",
   "name": "python",
   "nbconvert_exporter": "python",
   "pygments_lexer": "ipython3",
   "version": "3.13.5"
  }
 },
 "nbformat": 4,
 "nbformat_minor": 5
}
