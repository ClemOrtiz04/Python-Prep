{
 "cells": [
  {
   "cell_type": "code",
   "execution_count": 1,
   "id": "f439d85d",
   "metadata": {},
   "outputs": [
    {
     "name": "stdout",
     "output_type": "stream",
     "text": [
      "(2, 4, 6, 8)\n"
     ]
    }
   ],
   "source": [
    "mi_tupla = (2,4,6,8)\n",
    "print(mi_tupla)"
   ]
  },
  {
   "cell_type": "code",
   "execution_count": 2,
   "id": "fef8b34e",
   "metadata": {},
   "outputs": [
    {
     "name": "stdout",
     "output_type": "stream",
     "text": [
      "<class 'tuple'>\n"
     ]
    }
   ],
   "source": [
    "print(type(mi_tupla))"
   ]
  },
  {
   "cell_type": "code",
   "execution_count": 4,
   "id": "91747a8f",
   "metadata": {},
   "outputs": [
    {
     "name": "stdout",
     "output_type": "stream",
     "text": [
      "martes\n"
     ]
    }
   ],
   "source": [
    "tupla_dias = (\"lunes\",\"martes\",\"miercoles\",\"jueves\",\"viernes\",\"sabado\",\"domingo\")\n",
    "print(tupla_dias[1])"
   ]
  },
  {
   "cell_type": "code",
   "execution_count": 9,
   "id": "dcc5ed45",
   "metadata": {},
   "outputs": [
    {
     "data": {
      "text/plain": [
       "True"
      ]
     },
     "execution_count": 9,
     "metadata": {},
     "output_type": "execute_result"
    }
   ],
   "source": [
    "'jueves' in tupla_dias"
   ]
  },
  {
   "cell_type": "code",
   "execution_count": 8,
   "id": "518c0dc4",
   "metadata": {},
   "outputs": [
    {
     "data": {
      "text/plain": [
       "False"
      ]
     },
     "execution_count": 8,
     "metadata": {},
     "output_type": "execute_result"
    }
   ],
   "source": [
    "'Jueves' in tupla_dias"
   ]
  },
  {
   "cell_type": "code",
   "execution_count": 10,
   "id": "d5c153d1",
   "metadata": {},
   "outputs": [
    {
     "data": {
      "text/plain": [
       "1"
      ]
     },
     "execution_count": 10,
     "metadata": {},
     "output_type": "execute_result"
    }
   ],
   "source": [
    "tupla_dias.count(\"sabado\")"
   ]
  },
  {
   "cell_type": "code",
   "execution_count": 11,
   "id": "12b42c55",
   "metadata": {},
   "outputs": [
    {
     "data": {
      "text/plain": [
       "tuple"
      ]
     },
     "execution_count": 11,
     "metadata": {},
     "output_type": "execute_result"
    }
   ],
   "source": [
    "mi_tupla_unitaria = (\"azul\",)\n",
    "type(mi_tupla_unitaria)"
   ]
  },
  {
   "cell_type": "code",
   "execution_count": 12,
   "id": "be7d9942",
   "metadata": {},
   "outputs": [
    {
     "data": {
      "text/plain": [
       "'miercoles'"
      ]
     },
     "execution_count": 12,
     "metadata": {},
     "output_type": "execute_result"
    }
   ],
   "source": [
    "tupla_dias[2]"
   ]
  },
  {
   "cell_type": "code",
   "execution_count": 15,
   "id": "7b0d30b6",
   "metadata": {},
   "outputs": [
    {
     "data": {
      "text/plain": [
       "('lunes', 'martes', 'miercoles', 'jueves', 'viernes')"
      ]
     },
     "execution_count": 15,
     "metadata": {},
     "output_type": "execute_result"
    }
   ],
   "source": [
    "tupla_dias[0:5]"
   ]
  },
  {
   "cell_type": "code",
   "execution_count": null,
   "id": "798a02d0",
   "metadata": {},
   "outputs": [
    {
     "data": {
      "text/plain": [
       "tuple"
      ]
     },
     "execution_count": 16,
     "metadata": {},
     "output_type": "execute_result"
    }
   ],
   "source": [
    "date = (18,'noviembre',2006) #Empaquetado de tuplas permite asignar varios valores a una sola variable. Es decir, se puede crear una tupla con múltiples elementos y asignarla a una única variable.\n",
    "type(date)\n"
   ]
  },
  {
   "cell_type": "code",
   "execution_count": 17,
   "id": "5ca98b87",
   "metadata": {},
   "outputs": [
    {
     "name": "stdout",
     "output_type": "stream",
     "text": [
      "(18, 'noviembre', 2006)\n"
     ]
    }
   ],
   "source": [
    "print(date)"
   ]
  },
  {
   "cell_type": "code",
   "execution_count": null,
   "id": "71afb222",
   "metadata": {},
   "outputs": [],
   "source": [
    "uno,dos,tres = date #Desempaquetado de tuplas"
   ]
  },
  {
   "cell_type": "code",
   "execution_count": 21,
   "id": "013a7ae1",
   "metadata": {},
   "outputs": [
    {
     "name": "stdout",
     "output_type": "stream",
     "text": [
      "18\n",
      "noviembre\n",
      "2006\n"
     ]
    }
   ],
   "source": [
    "print(uno)\n",
    "print(dos)\n",
    "print(tres)"
   ]
  },
  {
   "cell_type": "code",
   "execution_count": 22,
   "id": "a9a4ee51",
   "metadata": {},
   "outputs": [
    {
     "name": "stdout",
     "output_type": "stream",
     "text": [
      "1\n",
      "7\n",
      "9\n"
     ]
    }
   ],
   "source": [
    "tupla_impares = (1,3,5,7,9)\n",
    "primer_elemento = tupla_impares[0]\n",
    "cuarto_elemento = tupla_impares[3]\n",
    "quinto_elemento = tupla_impares[4]\n",
    "\n",
    "print(primer_elemento)\n",
    "print(cuarto_elemento)\n",
    "print(quinto_elemento)"
   ]
  },
  {
   "cell_type": "code",
   "execution_count": 27,
   "id": "40bd21aa",
   "metadata": {},
   "outputs": [
    {
     "name": "stdout",
     "output_type": "stream",
     "text": [
      "7\n",
      "9\n"
     ]
    }
   ],
   "source": [
    "_,_,_,cuarto,quinto = tupla_impares\n",
    "print(cuarto)\n",
    "print(quinto)"
   ]
  },
  {
   "cell_type": "code",
   "execution_count": 30,
   "id": "10492f70",
   "metadata": {},
   "outputs": [
    {
     "data": {
      "text/plain": [
       "list"
      ]
     },
     "execution_count": 30,
     "metadata": {},
     "output_type": "execute_result"
    }
   ],
   "source": [
    "#convertir una tupla a lista\n",
    "lista_impares = list(tupla_impares)\n",
    "type(lista_impares)"
   ]
  },
  {
   "cell_type": "code",
   "execution_count": 31,
   "id": "ea136d53",
   "metadata": {},
   "outputs": [
    {
     "name": "stdout",
     "output_type": "stream",
     "text": [
      "[1, 3, 5, 7, 9]\n"
     ]
    }
   ],
   "source": [
    "print(lista_impares)"
   ]
  },
  {
   "cell_type": "code",
   "execution_count": 32,
   "id": "f8078f79",
   "metadata": {},
   "outputs": [
    {
     "data": {
      "text/plain": [
       "tuple"
      ]
     },
     "execution_count": 32,
     "metadata": {},
     "output_type": "execute_result"
    }
   ],
   "source": [
    "#convertir una lista a tupla\n",
    "nueva_tupla = tuple(lista_impares)\n",
    "type(nueva_tupla)"
   ]
  },
  {
   "cell_type": "code",
   "execution_count": 33,
   "id": "ada12dea",
   "metadata": {},
   "outputs": [
    {
     "name": "stdout",
     "output_type": "stream",
     "text": [
      "(1, 3, 5, 7, 9)\n"
     ]
    }
   ],
   "source": [
    "print(nueva_tupla)"
   ]
  },
  {
   "cell_type": "code",
   "execution_count": null,
   "id": "e71f9a60",
   "metadata": {},
   "outputs": [],
   "source": [
    "#in: se utiliza para verificar si un elemento está presente en la tupla.\n",
    "#count: se utiliza para contar el número de veces que un elemento aparece en la tupla."
   ]
  },
  {
   "cell_type": "code",
   "execution_count": 34,
   "id": "fe6925b0",
   "metadata": {},
   "outputs": [],
   "source": [
    "tupla = 1,2,3"
   ]
  },
  {
   "cell_type": "code",
   "execution_count": 36,
   "id": "dfab4121",
   "metadata": {},
   "outputs": [
    {
     "name": "stdout",
     "output_type": "stream",
     "text": [
      "(1, 2, 3)\n"
     ]
    }
   ],
   "source": [
    "print(tupla)"
   ]
  },
  {
   "cell_type": "code",
   "execution_count": null,
   "id": "4500e2f7",
   "metadata": {},
   "outputs": [
    {
     "name": "stdout",
     "output_type": "stream",
     "text": [
      "1\n",
      "2\n",
      "3\n"
     ]
    }
   ],
   "source": [
    "a, b, c = tupla #Desempaquetado de tuplas\n",
    "print(a)\n",
    "print(b)\n",
    "print(c)"
   ]
  },
  {
   "cell_type": "code",
   "execution_count": 38,
   "id": "d6ae76af",
   "metadata": {},
   "outputs": [
    {
     "name": "stdout",
     "output_type": "stream",
     "text": [
      "2 3\n"
     ]
    }
   ],
   "source": [
    "#Puedes esquipear los elementos que no necesites con guin bajo\n",
    "_,dos, tres = tupla\n",
    "print(dos, tres)"
   ]
  },
  {
   "cell_type": "code",
   "execution_count": 39,
   "id": "dea2fcc9",
   "metadata": {},
   "outputs": [
    {
     "data": {
      "text/plain": [
       "['h', 'o', 'l', 'a']"
      ]
     },
     "execution_count": 39,
     "metadata": {},
     "output_type": "execute_result"
    }
   ],
   "source": [
    "hola = \"hola\"\n",
    "list(hola)"
   ]
  },
  {
   "cell_type": "code",
   "execution_count": 40,
   "id": "ea401e5c",
   "metadata": {},
   "outputs": [
    {
     "data": {
      "text/plain": [
       "('h', 'o', 'l', 'a')"
      ]
     },
     "execution_count": 40,
     "metadata": {},
     "output_type": "execute_result"
    }
   ],
   "source": [
    "tuple(hola)"
   ]
  }
 ],
 "metadata": {
  "kernelspec": {
   "display_name": "Python 3",
   "language": "python",
   "name": "python3"
  },
  "language_info": {
   "codemirror_mode": {
    "name": "ipython",
    "version": 3
   },
   "file_extension": ".py",
   "mimetype": "text/x-python",
   "name": "python",
   "nbconvert_exporter": "python",
   "pygments_lexer": "ipython3",
   "version": "3.13.5"
  }
 },
 "nbformat": 4,
 "nbformat_minor": 5
}
