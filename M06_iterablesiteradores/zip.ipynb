{
 "cells": [
  {
   "cell_type": "code",
   "execution_count": 16,
   "id": "92663ccc",
   "metadata": {},
   "outputs": [],
   "source": [
    "lista1= [1,2,3,4]\n",
    "lista2= [\"a\",\"b\",\"c\",\"d\"]\n",
    "\n",
    "combinacion = zip(lista1,lista2)"
   ]
  },
  {
   "cell_type": "code",
   "execution_count": 11,
   "id": "a6440f87",
   "metadata": {},
   "outputs": [
    {
     "name": "stdout",
     "output_type": "stream",
     "text": [
      "<class 'zip'>\n"
     ]
    }
   ],
   "source": [
    "print(type(combinacion))"
   ]
  },
  {
   "cell_type": "code",
   "execution_count": null,
   "id": "7c3aaeb3",
   "metadata": {},
   "outputs": [
    {
     "name": "stdout",
     "output_type": "stream",
     "text": [
      "(1, 'a')\n",
      "(2, 'b')\n",
      "(3, 'c')\n",
      "(4, 'd')\n"
     ]
    }
   ],
   "source": [
    "for elementos in combinacion:\n",
    "    print(elementos) "
   ]
  },
  {
   "cell_type": "code",
   "execution_count": null,
   "id": "f72ead09",
   "metadata": {},
   "outputs": [
    {
     "name": "stdout",
     "output_type": "stream",
     "text": [
      "(1, 'a')\n",
      "(2, 'b')\n",
      "(3, 'c')\n"
     ]
    }
   ],
   "source": [
    "#La tupla creada por zip tendrá tantos elementos como la lista con menor cantidad de estos\n",
    "lista3= [1,2,3,4]\n",
    "lista4= [\"a\",\"b\",\"c\"]\n",
    "\n",
    "combination = zip(lista3, lista4)\n",
    "\n",
    "for elemento in combination:\n",
    "    print(elemento) #Como pueden observar la lista 4 solamente tenía 3 elementos por esto es que no se muestra el 4 de la lista1 "
   ]
  },
  {
   "cell_type": "code",
   "execution_count": 19,
   "id": "70aff2af",
   "metadata": {},
   "outputs": [
    {
     "name": "stdout",
     "output_type": "stream",
     "text": [
      "(2, 1, 'a')\n",
      "(4, 3, 'b')\n",
      "(6, 5, 'c')\n"
     ]
    }
   ],
   "source": [
    "lista_a = [2,4,6]\n",
    "lista_b = [1,3,5]\n",
    "lista_c = [\"a\", \"b\", \"c\"]\n",
    "\n",
    "mix_list = zip(lista_a,lista_b,lista_c)\n",
    "\n",
    "for elementos in mix_list:\n",
    "    print(elementos)"
   ]
  },
  {
   "cell_type": "code",
   "execution_count": 20,
   "id": "e0378cb4",
   "metadata": {},
   "outputs": [
    {
     "name": "stdout",
     "output_type": "stream",
     "text": [
      "(1, 'H')\n",
      "(2, 'o')\n",
      "(3, 'l')\n"
     ]
    }
   ],
   "source": [
    "cadena = \"Hola\"\n",
    "list = [1,2,3]\n",
    "\n",
    "mix = zip(list,cadena)\n",
    "\n",
    "for elementos in mix:\n",
    "    print(elementos)"
   ]
  }
 ],
 "metadata": {
  "kernelspec": {
   "display_name": "Python 3",
   "language": "python",
   "name": "python3"
  },
  "language_info": {
   "codemirror_mode": {
    "name": "ipython",
    "version": 3
   },
   "file_extension": ".py",
   "mimetype": "text/x-python",
   "name": "python",
   "nbconvert_exporter": "python",
   "pygments_lexer": "ipython3",
   "version": "3.13.5"
  }
 },
 "nbformat": 4,
 "nbformat_minor": 5
}
