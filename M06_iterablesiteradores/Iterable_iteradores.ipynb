{
 "cells": [
  {
   "cell_type": "code",
   "execution_count": 2,
   "id": "2a602d2f",
   "metadata": {},
   "outputs": [
    {
     "name": "stdout",
     "output_type": "stream",
     "text": [
      "5\n",
      "2\n",
      "3\n",
      "9\n"
     ]
    }
   ],
   "source": [
    "lista = [5,2,3,9]\n",
    "i = 0\n",
    "while (i<len(lista)):\n",
    "    print(lista[i])\n",
    "    i+=1"
   ]
  },
  {
   "cell_type": "code",
   "execution_count": 3,
   "id": "9e722d3e",
   "metadata": {},
   "outputs": [
    {
     "name": "stdout",
     "output_type": "stream",
     "text": [
      "5\n",
      "2\n",
      "3\n",
      "9\n"
     ]
    }
   ],
   "source": [
    "lista = [5,2,3,9]\n",
    "for elemento in lista:\n",
    "    print(elemento)"
   ]
  },
  {
   "cell_type": "code",
   "execution_count": 5,
   "id": "4086fb69",
   "metadata": {},
   "outputs": [
    {
     "name": "stdout",
     "output_type": "stream",
     "text": [
      "p\n",
      "a\n",
      "p\n",
      "u\n",
      "r\n",
      "r\n",
      "i\n"
     ]
    }
   ],
   "source": [
    "cadena = \"papurri\"\n",
    "for letra in cadena:\n",
    "    print(letra)"
   ]
  },
  {
   "cell_type": "code",
   "execution_count": null,
   "id": "a6181f98",
   "metadata": {},
   "outputs": [
    {
     "name": "stdout",
     "output_type": "stream",
     "text": [
      "(0, 'p')\n",
      "(1, 'a')\n",
      "(2, 'p')\n",
      "(3, 'u')\n",
      "(4, 'r')\n",
      "(5, 'r')\n",
      "(6, 'i')\n"
     ]
    }
   ],
   "source": [
    "cadena = \"papurri\"\n",
    "for letra in enumerate(cadena): #Agrega un indice a cada elemento de la cadena\n",
    "    print(letra)"
   ]
  },
  {
   "cell_type": "code",
   "execution_count": 7,
   "id": "97733e78",
   "metadata": {},
   "outputs": [],
   "source": [
    "from collections.abc import Iterable\n",
    "cadena = \"Papurri\"\n",
    "numero = 4"
   ]
  },
  {
   "cell_type": "code",
   "execution_count": 8,
   "id": "c59b70d8",
   "metadata": {},
   "outputs": [
    {
     "data": {
      "text/plain": [
       "True"
      ]
     },
     "execution_count": 8,
     "metadata": {},
     "output_type": "execute_result"
    }
   ],
   "source": [
    "isinstance(cadena,Iterable)"
   ]
  },
  {
   "cell_type": "code",
   "execution_count": 9,
   "id": "82b13298",
   "metadata": {},
   "outputs": [
    {
     "data": {
      "text/plain": [
       "False"
      ]
     },
     "execution_count": 9,
     "metadata": {},
     "output_type": "execute_result"
    }
   ],
   "source": [
    "isinstance(numero,Iterable)"
   ]
  },
  {
   "cell_type": "code",
   "execution_count": 10,
   "id": "1e45c36f",
   "metadata": {},
   "outputs": [
    {
     "name": "stdout",
     "output_type": "stream",
     "text": [
      "['P', 'a', 'p', 'u', 'r', 'r', 'i']\n"
     ]
    }
   ],
   "source": [
    "print(list(\"Papurri\"))"
   ]
  },
  {
   "cell_type": "code",
   "execution_count": 11,
   "id": "6d845589",
   "metadata": {},
   "outputs": [
    {
     "name": "stdout",
     "output_type": "stream",
     "text": [
      "10\n"
     ]
    }
   ],
   "source": [
    "print(sum([1,2,3,4]))"
   ]
  },
  {
   "cell_type": "code",
   "execution_count": 12,
   "id": "e716a796",
   "metadata": {},
   "outputs": [
    {
     "name": "stdout",
     "output_type": "stream",
     "text": [
      "P-a-p-u-r-r-i\n"
     ]
    }
   ],
   "source": [
    "print(\"-\".join(\"Papurri\"))"
   ]
  },
  {
   "cell_type": "code",
   "execution_count": 13,
   "id": "bc5f1af3",
   "metadata": {},
   "outputs": [
    {
     "name": "stdout",
     "output_type": "stream",
     "text": [
      "a\n",
      "b\n",
      "c\n"
     ]
    }
   ],
   "source": [
    "mi_dicc = {\"a\":1,\"b\":2,\"c\":3}\n",
    "for i in mi_dicc:\n",
    "    print(i)"
   ]
  },
  {
   "cell_type": "code",
   "execution_count": 1,
   "id": "ee256ff7",
   "metadata": {},
   "outputs": [],
   "source": [
    "libro = [\"pagina1\",\"pagina2\",\"pagina3\",\"pagina4\"]\n",
    "marcapaginas = iter(libro)"
   ]
  },
  {
   "cell_type": "code",
   "execution_count": 2,
   "id": "2bd6168f",
   "metadata": {},
   "outputs": [
    {
     "data": {
      "text/plain": [
       "list_iterator"
      ]
     },
     "execution_count": 2,
     "metadata": {},
     "output_type": "execute_result"
    }
   ],
   "source": [
    "type(marcapaginas)"
   ]
  },
  {
   "cell_type": "code",
   "execution_count": 4,
   "id": "e2be772a",
   "metadata": {},
   "outputs": [
    {
     "name": "stdout",
     "output_type": "stream",
     "text": [
      "pagina2\n"
     ]
    }
   ],
   "source": [
    "print(next(marcapaginas))"
   ]
  },
  {
   "cell_type": "code",
   "execution_count": 5,
   "id": "b0dafcdd",
   "metadata": {},
   "outputs": [
    {
     "name": "stdout",
     "output_type": "stream",
     "text": [
      "pagina3\n"
     ]
    }
   ],
   "source": [
    "print(next(marcapaginas))"
   ]
  },
  {
   "cell_type": "code",
   "execution_count": 6,
   "id": "6f5426b7",
   "metadata": {},
   "outputs": [
    {
     "name": "stdout",
     "output_type": "stream",
     "text": [
      "pagina4\n"
     ]
    }
   ],
   "source": [
    "print(next(marcapaginas))"
   ]
  },
  {
   "cell_type": "code",
   "execution_count": null,
   "id": "77fbb1be",
   "metadata": {},
   "outputs": [
    {
     "ename": "StopIteration",
     "evalue": "",
     "output_type": "error",
     "traceback": [
      "\u001b[31m---------------------------------------------------------------------------\u001b[39m",
      "\u001b[31mStopIteration\u001b[39m                             Traceback (most recent call last)",
      "\u001b[36mCell\u001b[39m\u001b[36m \u001b[39m\u001b[32mIn[7]\u001b[39m\u001b[32m, line 1\u001b[39m\n\u001b[32m----> \u001b[39m\u001b[32m1\u001b[39m \u001b[38;5;28mprint\u001b[39m(\u001b[38;5;28;43mnext\u001b[39;49m\u001b[43m(\u001b[49m\u001b[43mmarcapaginas\u001b[49m\u001b[43m)\u001b[49m)\n",
      "\u001b[31mStopIteration\u001b[39m: "
     ]
    }
   ],
   "source": [
    "print(next(marcapaginas)) #Se ha llegado al limite no hay más elementos a iterar"
   ]
  },
  {
   "cell_type": "code",
   "execution_count": null,
   "id": "9865fec2",
   "metadata": {},
   "outputs": [],
   "source": [
    "#Condicionales en listas\n",
    "# lista = [expresion for elementos in iterable if condicion]"
   ]
  },
  {
   "cell_type": "code",
   "execution_count": 8,
   "id": "c1b6718c",
   "metadata": {},
   "outputs": [
    {
     "name": "stdout",
     "output_type": "stream",
     "text": [
      "[4, 8, 12]\n"
     ]
    }
   ],
   "source": [
    "numeros = [1,2,3,4,5,6]\n",
    "\n",
    "pares_por_dos = [x*2 for x in numeros if x % 2 == 0]\n",
    "\n",
    "print(pares_por_dos)"
   ]
  },
  {
   "cell_type": "code",
   "execution_count": 9,
   "id": "f71051a2",
   "metadata": {},
   "outputs": [
    {
     "name": "stdout",
     "output_type": "stream",
     "text": [
      "['r', 'r', 'r']\n"
     ]
    }
   ],
   "source": [
    "frase = \"Ayer me eche un fortnite bien agustito pero llego mi amigo\"\n",
    "erres = [i for i in frase if i == \"r\"]\n",
    "print(erres)"
   ]
  },
  {
   "cell_type": "code",
   "execution_count": 10,
   "id": "bfaaa1ca",
   "metadata": {},
   "outputs": [
    {
     "name": "stdout",
     "output_type": "stream",
     "text": [
      "12\n"
     ]
    }
   ],
   "source": [
    "lis = [[1,2,3,4],'rojo','verde',[True,False,False],['uno','dos','tres']]\n",
    "\n",
    "cantidad_elementos = 0\n",
    "\n",
    "for elemento in lis:    \n",
    "    if type(elemento) == list:\n",
    "        cantidad_elementos += len(elemento)\n",
    "    else:\n",
    "        cantidad_elementos += 1\n",
    "print(cantidad_elementos)"
   ]
  }
 ],
 "metadata": {
  "kernelspec": {
   "display_name": "Python 3",
   "language": "python",
   "name": "python3"
  },
  "language_info": {
   "codemirror_mode": {
    "name": "ipython",
    "version": 3
   },
   "file_extension": ".py",
   "mimetype": "text/x-python",
   "name": "python",
   "nbconvert_exporter": "python",
   "pygments_lexer": "ipython3",
   "version": "3.13.5"
  }
 },
 "nbformat": 4,
 "nbformat_minor": 5
}
